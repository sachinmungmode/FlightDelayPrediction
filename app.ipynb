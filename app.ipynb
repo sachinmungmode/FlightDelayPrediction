{
 "cells": [
  {
   "cell_type": "code",
   "execution_count": null,
   "metadata": {},
   "outputs": [
    {
     "name": "stdout",
     "output_type": "stream",
     "text": [
      " * Serving Flask app \"__main__\" (lazy loading)\n",
      " * Environment: production\n",
      "   WARNING: This is a development server. Do not use it in a production deployment.\n",
      "   Use a production WSGI server instead.\n",
      " * Debug mode: off\n"
     ]
    },
    {
     "name": "stderr",
     "output_type": "stream",
     "text": [
      " * Running on http://127.0.0.1:5000/ (Press CTRL+C to quit)\n",
      "127.0.0.1 - - [27/Jul/2020 12:14:17] \"\u001b[37mGET / HTTP/1.1\u001b[0m\" 200 -\n",
      "127.0.0.1 - - [27/Jul/2020 12:14:46] \"\u001b[37mPOST /predict HTTP/1.1\u001b[0m\" 200 -\n",
      "[2020-07-27 12:16:13,224] ERROR in app: Exception on /predict [POST]\n",
      "Traceback (most recent call last):\n",
      "  File \"C:\\Users\\91909\\Anaconda3\\envs\\myenv\\lib\\site-packages\\flask\\app.py\", line 2447, in wsgi_app\n",
      "    response = self.full_dispatch_request()\n",
      "  File \"C:\\Users\\91909\\Anaconda3\\envs\\myenv\\lib\\site-packages\\flask\\app.py\", line 1952, in full_dispatch_request\n",
      "    rv = self.handle_user_exception(e)\n",
      "  File \"C:\\Users\\91909\\Anaconda3\\envs\\myenv\\lib\\site-packages\\flask\\app.py\", line 1821, in handle_user_exception\n",
      "    reraise(exc_type, exc_value, tb)\n",
      "  File \"C:\\Users\\91909\\Anaconda3\\envs\\myenv\\lib\\site-packages\\flask\\_compat.py\", line 39, in reraise\n",
      "    raise value\n",
      "  File \"C:\\Users\\91909\\Anaconda3\\envs\\myenv\\lib\\site-packages\\flask\\app.py\", line 1950, in full_dispatch_request\n",
      "    rv = self.dispatch_request()\n",
      "  File \"C:\\Users\\91909\\Anaconda3\\envs\\myenv\\lib\\site-packages\\flask\\app.py\", line 1936, in dispatch_request\n",
      "    return self.view_functions[rule.endpoint](**req.view_args)\n",
      "  File \"<ipython-input-1-091f83d5b50d>\", line 14, in predict\n",
      "    int_features = [int(x) for x in request.form.values()]\n",
      "  File \"<ipython-input-1-091f83d5b50d>\", line 14, in <listcomp>\n",
      "    int_features = [int(x) for x in request.form.values()]\n",
      "ValueError: invalid literal for int() with base 10: '0.32'\n",
      "127.0.0.1 - - [27/Jul/2020 12:16:13] \"\u001b[35m\u001b[1mPOST /predict HTTP/1.1\u001b[0m\" 500 -\n",
      "[2020-07-27 12:16:39,619] ERROR in app: Exception on /predict [POST]\n",
      "Traceback (most recent call last):\n",
      "  File \"C:\\Users\\91909\\Anaconda3\\envs\\myenv\\lib\\site-packages\\flask\\app.py\", line 2447, in wsgi_app\n",
      "    response = self.full_dispatch_request()\n",
      "  File \"C:\\Users\\91909\\Anaconda3\\envs\\myenv\\lib\\site-packages\\flask\\app.py\", line 1952, in full_dispatch_request\n",
      "    rv = self.handle_user_exception(e)\n",
      "  File \"C:\\Users\\91909\\Anaconda3\\envs\\myenv\\lib\\site-packages\\flask\\app.py\", line 1821, in handle_user_exception\n",
      "    reraise(exc_type, exc_value, tb)\n",
      "  File \"C:\\Users\\91909\\Anaconda3\\envs\\myenv\\lib\\site-packages\\flask\\_compat.py\", line 39, in reraise\n",
      "    raise value\n",
      "  File \"C:\\Users\\91909\\Anaconda3\\envs\\myenv\\lib\\site-packages\\flask\\app.py\", line 1950, in full_dispatch_request\n",
      "    rv = self.dispatch_request()\n",
      "  File \"C:\\Users\\91909\\Anaconda3\\envs\\myenv\\lib\\site-packages\\flask\\app.py\", line 1936, in dispatch_request\n",
      "    return self.view_functions[rule.endpoint](**req.view_args)\n",
      "  File \"<ipython-input-1-091f83d5b50d>\", line 14, in predict\n",
      "    int_features = [int(x) for x in request.form.values()]\n",
      "  File \"<ipython-input-1-091f83d5b50d>\", line 14, in <listcomp>\n",
      "    int_features = [int(x) for x in request.form.values()]\n",
      "ValueError: invalid literal for int() with base 10: '0.45'\n",
      "127.0.0.1 - - [27/Jul/2020 12:16:39] \"\u001b[35m\u001b[1mPOST /predict HTTP/1.1\u001b[0m\" 500 -\n",
      "127.0.0.1 - - [27/Jul/2020 12:16:57] \"\u001b[37mPOST /predict HTTP/1.1\u001b[0m\" 200 -\n"
     ]
    }
   ],
   "source": [
    "import numpy as np\n",
    "from flask import Flask, request, jsonify, render_template\n",
    "import pickle\n",
    "\n",
    "app = Flask(__name__)\n",
    "model = pickle.load(open('model.pkl', 'rb'))\n",
    "\n",
    "@app.route('/')\n",
    "def home():\n",
    "    return render_template('index.html')\n",
    "\n",
    "@app.route('/predict',methods=['POST'])\n",
    "def predict(): \n",
    "    int_features = [int(x) for x in request.form.values()]\n",
    "    final_features = [np.array(int_features)]\n",
    "   # model = pickle.load(open('model.pkl', 'rb'))\n",
    "    prediction = model.predict(final_features)\n",
    "\n",
    "    output = round(prediction[0], 2)\n",
    "\n",
    "    return render_template('index.html', prediction_text='Flight Delay should be: {}'.format(output))\n",
    "    \n",
    "\n",
    "#@app.route('/results', methods = ['POST']) \n",
    "#def results(): \n",
    "    \n",
    "  #  if request.method == 'POST': \n",
    "   #     to_predict_list = request.form.to_dict() \n",
    "    #    to_predict_list = list(to_predict_list.values()) \n",
    "  #      to_predict_list = list(map(int, to_predict_list)) \n",
    "    #    result = predict(to_predict_list)\n",
    "   #     return render_template(\"result.html\", prediction = result) \n",
    "\n",
    "if __name__ == \"__main__\":\n",
    "    app.run()"
   ]
  },
  {
   "cell_type": "code",
   "execution_count": null,
   "metadata": {},
   "outputs": [],
   "source": []
  }
 ],
 "metadata": {
  "kernelspec": {
   "display_name": "Python 3",
   "language": "python",
   "name": "python3"
  },
  "language_info": {
   "codemirror_mode": {
    "name": "ipython",
    "version": 3
   },
   "file_extension": ".py",
   "mimetype": "text/x-python",
   "name": "python",
   "nbconvert_exporter": "python",
   "pygments_lexer": "ipython3",
   "version": "3.6.10"
  }
 },
 "nbformat": 4,
 "nbformat_minor": 2
}
